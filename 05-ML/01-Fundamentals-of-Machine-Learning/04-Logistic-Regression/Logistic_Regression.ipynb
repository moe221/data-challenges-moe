{
 "cells": [
  {
   "cell_type": "markdown",
   "metadata": {
    "toc": true
   },
   "source": [
    "<h1>Table of Contents<span class=\"tocSkip\"></span></h1>\n",
    "<div class=\"toc\"><ul class=\"toc-item\"><li><span><a href=\"#Logistic-Regression\" data-toc-modified-id=\"Logistic-Regression-1\"><span class=\"toc-item-num\">1&nbsp;&nbsp;</span>Logistic Regression</a></span></li><li><span><a href=\"#1.-Model-evaluation\" data-toc-modified-id=\"1.-Model-evaluation-2\"><span class=\"toc-item-num\">2&nbsp;&nbsp;</span>1. Model evaluation</a></span><ul class=\"toc-item\"><li><ul class=\"toc-item\"><li><span><a href=\"#☑️-Check-your-code\" data-toc-modified-id=\"☑️-Check-your-code-2.0.1\"><span class=\"toc-item-num\">2.0.1&nbsp;&nbsp;</span>☑️ Check your code</a></span></li></ul></li></ul></li><li><span><a href=\"#2.-In-depth-diagnosis\" data-toc-modified-id=\"2.-In-depth-diagnosis-3\"><span class=\"toc-item-num\">3&nbsp;&nbsp;</span>2. In depth diagnosis</a></span></li><li><span><a href=\"#3.-Reduced-training-size\" data-toc-modified-id=\"3.-Reduced-training-size-4\"><span class=\"toc-item-num\">4&nbsp;&nbsp;</span>3. Reduced training size</a></span><ul class=\"toc-item\"><li><ul class=\"toc-item\"><li><span><a href=\"#☑️-Check-your-code\" data-toc-modified-id=\"☑️-Check-your-code-4.0.1\"><span class=\"toc-item-num\">4.0.1&nbsp;&nbsp;</span>☑️ Check your code</a></span></li></ul></li></ul></li><li><span><a href=\"#4.-Predictions\" data-toc-modified-id=\"4.-Predictions-5\"><span class=\"toc-item-num\">5&nbsp;&nbsp;</span>4. Predictions</a></span><ul class=\"toc-item\"><li><ul class=\"toc-item\"><li><span><a href=\"#☑️-Check-your-code\" data-toc-modified-id=\"☑️-Check-your-code-5.0.1\"><span class=\"toc-item-num\">5.0.1&nbsp;&nbsp;</span>☑️ Check your code</a></span></li></ul></li></ul></li><li><span><a href=\"#🏁\" data-toc-modified-id=\"🏁-6\"><span class=\"toc-item-num\">6&nbsp;&nbsp;</span>🏁</a></span></li></ul></div>"
   ]
  },
  {
   "cell_type": "markdown",
   "metadata": {},
   "source": [
    "# Logistic Regression"
   ]
  },
  {
   "cell_type": "markdown",
   "metadata": {},
   "source": [
    "🎯 Up until now, you have been modelling a regression task. This time, you are going to be modelling a classification task, on the famous Titanic dataset."
   ]
  },
  {
   "cell_type": "markdown",
   "metadata": {},
   "source": [
    "👇 Load the `titanic.csv` dataset into this notebook as a pandas dataframe, and display its first 5 rows."
   ]
  },
  {
   "cell_type": "markdown",
   "metadata": {},
   "source": [
    "<details>\n",
    "    <summary>💡Hint</summary>\n",
    "    The dataset is located in a parent directory, you should use <code>../</code> in order to find it.\n",
    "</details>"
   ]
  },
  {
   "cell_type": "code",
   "execution_count": 1,
   "metadata": {
    "tags": [
     "challengify"
    ]
   },
   "outputs": [],
   "source": [
    "import pandas as pd\n",
    "import numpy as np\n",
    "import matplotlib.pyplot as plt\n",
    "import seaborn as sns"
   ]
  },
  {
   "cell_type": "code",
   "execution_count": 2,
   "metadata": {},
   "outputs": [
    {
     "data": {
      "text/html": [
       "<div>\n",
       "<style scoped>\n",
       "    .dataframe tbody tr th:only-of-type {\n",
       "        vertical-align: middle;\n",
       "    }\n",
       "\n",
       "    .dataframe tbody tr th {\n",
       "        vertical-align: top;\n",
       "    }\n",
       "\n",
       "    .dataframe thead th {\n",
       "        text-align: right;\n",
       "    }\n",
       "</style>\n",
       "<table border=\"1\" class=\"dataframe\">\n",
       "  <thead>\n",
       "    <tr style=\"text-align: right;\">\n",
       "      <th></th>\n",
       "      <th>PassengerId</th>\n",
       "      <th>Survived</th>\n",
       "      <th>Pclass</th>\n",
       "      <th>Name</th>\n",
       "      <th>Sex</th>\n",
       "      <th>Age</th>\n",
       "      <th>SibSp</th>\n",
       "      <th>Parch</th>\n",
       "      <th>Ticket</th>\n",
       "      <th>Fare</th>\n",
       "      <th>Cabin</th>\n",
       "      <th>Embarked</th>\n",
       "    </tr>\n",
       "  </thead>\n",
       "  <tbody>\n",
       "    <tr>\n",
       "      <th>0</th>\n",
       "      <td>1</td>\n",
       "      <td>0</td>\n",
       "      <td>3</td>\n",
       "      <td>Braund, Mr. Owen Harris</td>\n",
       "      <td>male</td>\n",
       "      <td>22.0</td>\n",
       "      <td>1</td>\n",
       "      <td>0</td>\n",
       "      <td>A/5 21171</td>\n",
       "      <td>7.2500</td>\n",
       "      <td>NaN</td>\n",
       "      <td>S</td>\n",
       "    </tr>\n",
       "    <tr>\n",
       "      <th>1</th>\n",
       "      <td>2</td>\n",
       "      <td>1</td>\n",
       "      <td>1</td>\n",
       "      <td>Cumings, Mrs. John Bradley (Florence Briggs Th...</td>\n",
       "      <td>female</td>\n",
       "      <td>38.0</td>\n",
       "      <td>1</td>\n",
       "      <td>0</td>\n",
       "      <td>PC 17599</td>\n",
       "      <td>71.2833</td>\n",
       "      <td>C85</td>\n",
       "      <td>C</td>\n",
       "    </tr>\n",
       "    <tr>\n",
       "      <th>2</th>\n",
       "      <td>3</td>\n",
       "      <td>1</td>\n",
       "      <td>3</td>\n",
       "      <td>Heikkinen, Miss. Laina</td>\n",
       "      <td>female</td>\n",
       "      <td>26.0</td>\n",
       "      <td>0</td>\n",
       "      <td>0</td>\n",
       "      <td>STON/O2. 3101282</td>\n",
       "      <td>7.9250</td>\n",
       "      <td>NaN</td>\n",
       "      <td>S</td>\n",
       "    </tr>\n",
       "    <tr>\n",
       "      <th>3</th>\n",
       "      <td>4</td>\n",
       "      <td>1</td>\n",
       "      <td>1</td>\n",
       "      <td>Futrelle, Mrs. Jacques Heath (Lily May Peel)</td>\n",
       "      <td>female</td>\n",
       "      <td>35.0</td>\n",
       "      <td>1</td>\n",
       "      <td>0</td>\n",
       "      <td>113803</td>\n",
       "      <td>53.1000</td>\n",
       "      <td>C123</td>\n",
       "      <td>S</td>\n",
       "    </tr>\n",
       "    <tr>\n",
       "      <th>4</th>\n",
       "      <td>5</td>\n",
       "      <td>0</td>\n",
       "      <td>3</td>\n",
       "      <td>Allen, Mr. William Henry</td>\n",
       "      <td>male</td>\n",
       "      <td>35.0</td>\n",
       "      <td>0</td>\n",
       "      <td>0</td>\n",
       "      <td>373450</td>\n",
       "      <td>8.0500</td>\n",
       "      <td>NaN</td>\n",
       "      <td>S</td>\n",
       "    </tr>\n",
       "  </tbody>\n",
       "</table>\n",
       "</div>"
      ],
      "text/plain": [
       "   PassengerId  Survived  Pclass  \\\n",
       "0            1         0       3   \n",
       "1            2         1       1   \n",
       "2            3         1       3   \n",
       "3            4         1       1   \n",
       "4            5         0       3   \n",
       "\n",
       "                                                Name     Sex   Age  SibSp  \\\n",
       "0                            Braund, Mr. Owen Harris    male  22.0      1   \n",
       "1  Cumings, Mrs. John Bradley (Florence Briggs Th...  female  38.0      1   \n",
       "2                             Heikkinen, Miss. Laina  female  26.0      0   \n",
       "3       Futrelle, Mrs. Jacques Heath (Lily May Peel)  female  35.0      1   \n",
       "4                           Allen, Mr. William Henry    male  35.0      0   \n",
       "\n",
       "   Parch            Ticket     Fare Cabin Embarked  \n",
       "0      0         A/5 21171   7.2500   NaN        S  \n",
       "1      0          PC 17599  71.2833   C85        C  \n",
       "2      0  STON/O2. 3101282   7.9250   NaN        S  \n",
       "3      0            113803  53.1000  C123        S  \n",
       "4      0            373450   8.0500   NaN        S  "
      ]
     },
     "execution_count": 2,
     "metadata": {},
     "output_type": "execute_result"
    }
   ],
   "source": [
    "df = pd.read_csv(\"../data/titanic.csv\")\n",
    "df.head()"
   ]
  },
  {
   "cell_type": "markdown",
   "metadata": {},
   "source": [
    "ℹ️ You can download a detailed description of the dataset [here](https://wagon-public-datasets.s3.amazonaws.com/Machine%20Learning%20Datasets/ML_Titanic_dataset_description.txt). Make sure to refer to it throughout the day."
   ]
  },
  {
   "cell_type": "markdown",
   "metadata": {},
   "source": [
    "# 1. Model evaluation"
   ]
  },
  {
   "cell_type": "markdown",
   "metadata": {},
   "source": [
    "👇 We want to predict whether a passenger survived (`Survived`) the Titanic disaster, according to the following features:\n",
    "\n",
    "- The class in which she/he was travelling (`Pclass`)\n",
    "- The number of siblings/spouses he had onboard (`SibSp`)\n",
    "- The number of parents/children he had onboard (`Parch`)\n",
    "- The fare he paid for the ticket (`Fare`)\n",
    "\n",
    "❓How accurate would a LogisticRegression model be at such a task? Save the accuracy under variable name `accuracy`."
   ]
  },
  {
   "cell_type": "code",
   "execution_count": 3,
   "metadata": {
    "tags": [
     "challengify"
    ]
   },
   "outputs": [
    {
     "data": {
      "text/plain": [
       "0.6835791852363318"
      ]
     },
     "execution_count": 3,
     "metadata": {},
     "output_type": "execute_result"
    }
   ],
   "source": [
    "from sklearn.model_selection import cross_validate\n",
    "from sklearn.linear_model import LogisticRegression\n",
    "\n",
    "X = df[[\"Pclass\", \"SibSp\", \"Parch\", \"Fare\"]]\n",
    "y = df[\"Survived\"]\n",
    "\n",
    "log_model = LogisticRegression()\n",
    "cv = cross_validate(X=X, y=y, estimator=log_model, cv=5, scoring=[\"accuracy\"])\n",
    "accuracy = cv[\"test_accuracy\"].mean()\n",
    "accuracy"
   ]
  },
  {
   "cell_type": "code",
   "execution_count": 4,
   "metadata": {},
   "outputs": [
    {
     "data": {
      "text/plain": [
       "0    61.616162\n",
       "1    38.383838\n",
       "Name: Survived, dtype: float64"
      ]
     },
     "execution_count": 4,
     "metadata": {},
     "output_type": "execute_result"
    }
   ],
   "source": [
    "# base accuracy\n",
    "(df[\"Survived\"].value_counts()/len(df))*100"
   ]
  },
  {
   "cell_type": "markdown",
   "metadata": {},
   "source": [
    "### ☑️ Check your code"
   ]
  },
  {
   "cell_type": "code",
   "execution_count": 5,
   "metadata": {},
   "outputs": [
    {
     "name": "stdout",
     "output_type": "stream",
     "text": [
      "\u001b[1m============================= test session starts ==============================\u001b[0m\n",
      "platform darwin -- Python 3.8.12, pytest-6.2.5, py-1.10.0, pluggy-1.0.0 -- /Users/Moe/.pyenv/versions/lewagon/bin/python3\n",
      "cachedir: .pytest_cache\n",
      "rootdir: /Users/Moe/code/moe221/data-challenges-moe/05-ML/01-Fundamentals-of-Machine-Learning/04-Logistic-Regression\n",
      "plugins: dash-2.0.0, anyio-3.3.2, cov-3.0.0\n",
      "\u001b[1mcollecting ... \u001b[0mcollected 1 item\n",
      "\n",
      "tests/test_accuracy.py::TestAccuracy::test_accuracy \u001b[32mPASSED\u001b[0m\u001b[32m               [100%]\u001b[0m\n",
      "\n",
      "\u001b[32m============================== \u001b[32m\u001b[1m1 passed\u001b[0m\u001b[32m in 0.12s\u001b[0m\u001b[32m ===============================\u001b[0m\n",
      "\n",
      "\n",
      "💯 You can commit your code:\n",
      "\n",
      "\u001b[1;32mgit\u001b[39m add tests/accuracy.pickle\n",
      "\n",
      "\u001b[32mgit\u001b[39m commit -m \u001b[33m'Completed accuracy step'\u001b[39m\n",
      "\n",
      "\u001b[32mgit\u001b[39m push origin master\n"
     ]
    }
   ],
   "source": [
    "from nbresult import ChallengeResult\n",
    "\n",
    "result = ChallengeResult('accuracy',\n",
    "                         accuracy = accuracy\n",
    ")\n",
    "result.write()\n",
    "print(result.check())"
   ]
  },
  {
   "cell_type": "markdown",
   "metadata": {},
   "source": [
    "# 2. In depth diagnosis"
   ]
  },
  {
   "cell_type": "markdown",
   "metadata": {},
   "source": [
    "❓We've evaluated the accuracy of the model at predicting, but we want to investigate its performance in more depth. Is the model overfitting? underfitting? How many learning examples does it need to learn optimally on the given features?"
   ]
  },
  {
   "cell_type": "code",
   "execution_count": 15,
   "metadata": {},
   "outputs": [
    {
     "data": {
      "text/plain": [
       "[1, 51, 101, 151, 201, 251, 301, 351, 401]"
      ]
     },
     "execution_count": 15,
     "metadata": {},
     "output_type": "execute_result"
    }
   ],
   "source": [
    "train_sizes = [*range(1, int(0.5*df.shape[0]), 50)]\n",
    "train_sizes"
   ]
  },
  {
   "cell_type": "code",
   "execution_count": 32,
   "metadata": {
    "tags": [
     "challengify"
    ]
   },
   "outputs": [
    {
     "data": {
      "text/plain": [
       "(array([  1,   9,  18,  27,  36,  45,  54,  63,  72,  81,  90,  99, 108,\n",
       "        117, 126, 135, 144, 153, 162, 171, 180, 189, 198, 207, 216, 225,\n",
       "        234, 243, 252, 261, 270, 279, 288, 297, 306, 315, 324, 333, 342,\n",
       "        351, 360, 369, 378, 387, 396, 405, 414, 423, 432, 441, 450, 459,\n",
       "        468, 477, 486, 495, 504, 513, 522, 531, 540, 549, 558, 567, 576,\n",
       "        585, 594, 603, 612, 621, 630, 639, 648, 657, 666, 675, 684, 693,\n",
       "        702, 712]),\n",
       " array([[       nan,        nan,        nan,        nan,        nan],\n",
       "        [       nan, 0.77777778, 0.77777778, 0.77777778, 0.77777778],\n",
       "        [       nan, 0.77777778, 0.77777778, 0.77777778, 0.77777778],\n",
       "        [0.96296296, 0.74074074, 0.74074074, 0.74074074, 0.74074074],\n",
       "        [0.86111111, 0.58333333, 0.58333333, 0.58333333, 0.58333333],\n",
       "        [0.82222222, 0.6       , 0.6       , 0.6       , 0.6       ],\n",
       "        [0.83333333, 0.64814815, 0.64814815, 0.64814815, 0.64814815],\n",
       "        [0.82539683, 0.65079365, 0.65079365, 0.65079365, 0.65079365],\n",
       "        [0.83333333, 0.63888889, 0.63888889, 0.63888889, 0.63888889],\n",
       "        [0.81481481, 0.65432099, 0.65432099, 0.65432099, 0.65432099],\n",
       "        [0.81111111, 0.62222222, 0.62222222, 0.62222222, 0.62222222],\n",
       "        [0.7979798 , 0.61616162, 0.61616162, 0.61616162, 0.61616162],\n",
       "        [0.78703704, 0.62037037, 0.62037037, 0.62037037, 0.62037037],\n",
       "        [0.78632479, 0.63247863, 0.63247863, 0.63247863, 0.63247863],\n",
       "        [0.74603175, 0.61904762, 0.61904762, 0.61904762, 0.61904762],\n",
       "        [0.76296296, 0.62962963, 0.62962963, 0.62962963, 0.62962963],\n",
       "        [0.75      , 0.63888889, 0.63888889, 0.63888889, 0.63888889],\n",
       "        [0.74509804, 0.64052288, 0.64052288, 0.64052288, 0.64052288],\n",
       "        [0.74074074, 0.65432099, 0.65432099, 0.65432099, 0.65432099],\n",
       "        [0.73684211, 0.63157895, 0.67251462, 0.67251462, 0.67251462],\n",
       "        [0.74444444, 0.61111111, 0.67777778, 0.67777778, 0.67777778],\n",
       "        [0.72486772, 0.5978836 , 0.67195767, 0.67195767, 0.67195767],\n",
       "        [0.71212121, 0.62626263, 0.65151515, 0.65151515, 0.65151515],\n",
       "        [0.71980676, 0.61835749, 0.65700483, 0.65700483, 0.65700483],\n",
       "        [0.70833333, 0.62037037, 0.64351852, 0.64351852, 0.64351852],\n",
       "        [0.71111111, 0.62222222, 0.64888889, 0.64888889, 0.64888889],\n",
       "        [0.71794872, 0.63675214, 0.64957265, 0.64957265, 0.64957265],\n",
       "        [0.72016461, 0.64609053, 0.65020576, 0.65020576, 0.65020576],\n",
       "        [0.70634921, 0.64285714, 0.66269841, 0.66269841, 0.66269841],\n",
       "        [0.67816092, 0.65517241, 0.67049808, 0.67049808, 0.67049808],\n",
       "        [0.68148148, 0.66666667, 0.67407407, 0.67407407, 0.67407407],\n",
       "        [0.67383513, 0.64874552, 0.66666667, 0.66666667, 0.66666667],\n",
       "        [0.67708333, 0.63888889, 0.66319444, 0.66319444, 0.66319444],\n",
       "        [0.67676768, 0.63636364, 0.66666667, 0.66666667, 0.66666667],\n",
       "        [0.67973856, 0.6372549 , 0.65686275, 0.65686275, 0.65686275],\n",
       "        [0.68888889, 0.63809524, 0.66349206, 0.66349206, 0.66349206],\n",
       "        [0.68518519, 0.64506173, 0.66358025, 0.66358025, 0.66358025],\n",
       "        [0.68468468, 0.64864865, 0.66066066, 0.66066066, 0.66066066],\n",
       "        [0.68421053, 0.64619883, 0.66081871, 0.66081871, 0.66081871],\n",
       "        [0.68376068, 0.65527066, 0.65811966, 0.65811966, 0.65811966],\n",
       "        [0.68333333, 0.65      , 0.66388889, 0.66111111, 0.66111111],\n",
       "        [0.6802168 , 0.65311653, 0.66395664, 0.66937669, 0.66937669],\n",
       "        [0.67724868, 0.64814815, 0.66137566, 0.66666667, 0.66666667],\n",
       "        [0.68475452, 0.66149871, 0.66666667, 0.67183463, 0.67183463],\n",
       "        [0.67424242, 0.64646465, 0.6489899 , 0.65656566, 0.65656566],\n",
       "        [0.67407407, 0.65185185, 0.63950617, 0.66419753, 0.66419753],\n",
       "        [0.68115942, 0.65458937, 0.64251208, 0.66425121, 0.66425121],\n",
       "        [0.68085106, 0.6572104 , 0.64539007, 0.65957447, 0.65957447],\n",
       "        [0.68287037, 0.65972222, 0.65277778, 0.66203704, 0.66203704],\n",
       "        [0.68480726, 0.66666667, 0.65306122, 0.65306122, 0.65306122],\n",
       "        [0.68666667, 0.67555556, 0.65555556, 0.65777778, 0.65777778],\n",
       "        [0.68845316, 0.67973856, 0.65795207, 0.65141612, 0.65141612],\n",
       "        [0.69230769, 0.68162393, 0.65598291, 0.65384615, 0.65384615],\n",
       "        [0.6918239 , 0.68553459, 0.65828092, 0.64989518, 0.64989518],\n",
       "        [0.69135802, 0.68106996, 0.66255144, 0.65226337, 0.65226337],\n",
       "        [0.69090909, 0.68080808, 0.66464646, 0.65252525, 0.65252525],\n",
       "        [0.69246032, 0.67063492, 0.65873016, 0.66071429, 0.66071429],\n",
       "        [0.6920078 , 0.67251462, 0.66666667, 0.65692008, 0.65692008],\n",
       "        [0.68582375, 0.67049808, 0.66091954, 0.65708812, 0.65708812],\n",
       "        [0.6873823 , 0.67419962, 0.66666667, 0.65913371, 0.65725047],\n",
       "        [0.68888889, 0.67592593, 0.66666667, 0.65925926, 0.65925926],\n",
       "        [0.69034608, 0.67759563, 0.66848816, 0.65938069, 0.6557377 ],\n",
       "        [0.69354839, 0.68100358, 0.6702509 , 0.66308244, 0.65412186],\n",
       "        [0.69312169, 0.67901235, 0.67372134, 0.66843034, 0.65608466],\n",
       "        [0.68923611, 0.67708333, 0.66840278, 0.66145833, 0.65451389],\n",
       "        [0.6974359 , 0.68034188, 0.66837607, 0.66324786, 0.65299145],\n",
       "        [0.6986532 , 0.68350168, 0.67171717, 0.66666667, 0.65824916],\n",
       "        [0.69983416, 0.68325041, 0.67495854, 0.66832504, 0.65837479],\n",
       "        [0.69771242, 0.68137255, 0.6748366 , 0.66666667, 0.66503268],\n",
       "        [0.69887279, 0.68276973, 0.6763285 , 0.66827697, 0.66344605],\n",
       "        [0.6952381 , 0.67936508, 0.67619048, 0.66666667, 0.66507937],\n",
       "        [0.69796557, 0.68231612, 0.67918623, 0.66979656, 0.66979656],\n",
       "        [0.69753086, 0.68209877, 0.67901235, 0.66975309, 0.6712963 ],\n",
       "        [0.70015221, 0.68188737, 0.6803653 , 0.67123288, 0.67123288],\n",
       "        [0.7027027 , 0.68468468, 0.68468468, 0.67417417, 0.67117117],\n",
       "        [0.70666667, 0.68888889, 0.68888889, 0.67703704, 0.67111111],\n",
       "        [0.70614035, 0.68859649, 0.68859649, 0.67836257, 0.67251462],\n",
       "        [0.7041847 , 0.68686869, 0.68686869, 0.67821068, 0.67388167],\n",
       "        [0.7022792 , 0.68660969, 0.68803419, 0.67806268, 0.66951567],\n",
       "        [0.70646067, 0.68960674, 0.69101124, 0.67977528, 0.67134831]]),\n",
       " array([[       nan,        nan,        nan,        nan,        nan],\n",
       "        [       nan, 0.74157303, 0.70224719, 0.73033708, 0.71348315],\n",
       "        [       nan, 0.6011236 , 0.71348315, 0.71348315, 0.69101124],\n",
       "        [0.61452514, 0.58426966, 0.71348315, 0.68539326, 0.70786517],\n",
       "        [0.61452514, 0.57303371, 0.63483146, 0.61797753, 0.66292135],\n",
       "        [0.59776536, 0.56741573, 0.63483146, 0.61797753, 0.66853933],\n",
       "        [0.59217877, 0.60674157, 0.69101124, 0.65730337, 0.69662921],\n",
       "        [0.60335196, 0.57303371, 0.66853933, 0.65730337, 0.68539326],\n",
       "        [0.60893855, 0.53932584, 0.68539326, 0.64606742, 0.6741573 ],\n",
       "        [0.60335196, 0.56179775, 0.67977528, 0.65168539, 0.66853933],\n",
       "        [0.60893855, 0.62359551, 0.69662921, 0.66292135, 0.6741573 ],\n",
       "        [0.60335196, 0.69662921, 0.69662921, 0.69662921, 0.74157303],\n",
       "        [0.59776536, 0.66292135, 0.64044944, 0.66292135, 0.71910112],\n",
       "        [0.59776536, 0.66292135, 0.63483146, 0.66292135, 0.7247191 ],\n",
       "        [0.60335196, 0.59550562, 0.62921348, 0.61235955, 0.66853933],\n",
       "        [0.60335196, 0.57865169, 0.62359551, 0.62359551, 0.65730337],\n",
       "        [0.60335196, 0.6011236 , 0.65168539, 0.61235955, 0.66853933],\n",
       "        [0.59776536, 0.62359551, 0.64606742, 0.61235955, 0.60674157],\n",
       "        [0.60893855, 0.61235955, 0.63483146, 0.61797753, 0.58988764],\n",
       "        [0.61452514, 0.58426966, 0.63483146, 0.62359551, 0.61235955],\n",
       "        [0.61452514, 0.61235955, 0.61797753, 0.61797753, 0.60674157],\n",
       "        [0.58659218, 0.61235955, 0.61797753, 0.61235955, 0.60674157],\n",
       "        [0.59217877, 0.61797753, 0.62359551, 0.61235955, 0.61797753],\n",
       "        [0.59776536, 0.65730337, 0.62359551, 0.61235955, 0.61797753],\n",
       "        [0.59217877, 0.66853933, 0.62921348, 0.63483146, 0.63483146],\n",
       "        [0.58659218, 0.65730337, 0.63483146, 0.65168539, 0.6741573 ],\n",
       "        [0.58659218, 0.66292135, 0.64044944, 0.66853933, 0.67977528],\n",
       "        [0.58659218, 0.6741573 , 0.62359551, 0.62921348, 0.68539326],\n",
       "        [0.59217877, 0.66853933, 0.62921348, 0.64044944, 0.69101124],\n",
       "        [0.60335196, 0.60674157, 0.64044944, 0.66853933, 0.70224719],\n",
       "        [0.60335196, 0.58988764, 0.64606742, 0.6741573 , 0.70786517],\n",
       "        [0.60335196, 0.59550562, 0.65168539, 0.6741573 , 0.70224719],\n",
       "        [0.60335196, 0.64044944, 0.64044944, 0.66853933, 0.70224719],\n",
       "        [0.60335196, 0.66292135, 0.64044944, 0.66853933, 0.70224719],\n",
       "        [0.60335196, 0.66292135, 0.64044944, 0.66853933, 0.69662921],\n",
       "        [0.59217877, 0.66853933, 0.66292135, 0.6741573 , 0.69662921],\n",
       "        [0.60335196, 0.64606742, 0.66853933, 0.67977528, 0.70786517],\n",
       "        [0.60893855, 0.64606742, 0.66853933, 0.67977528, 0.70786517],\n",
       "        [0.60893855, 0.64606742, 0.66292135, 0.68539326, 0.71348315],\n",
       "        [0.60893855, 0.64606742, 0.66292135, 0.68539326, 0.71348315],\n",
       "        [0.60335196, 0.65168539, 0.66292135, 0.68539326, 0.71348315],\n",
       "        [0.60893855, 0.64606742, 0.66853933, 0.67977528, 0.70224719],\n",
       "        [0.60893855, 0.64606742, 0.65730337, 0.67977528, 0.69662921],\n",
       "        [0.60893855, 0.64044944, 0.67977528, 0.67977528, 0.69662921],\n",
       "        [0.60893855, 0.63483146, 0.66292135, 0.69101124, 0.71910112],\n",
       "        [0.60893855, 0.65168539, 0.6741573 , 0.69101124, 0.71910112],\n",
       "        [0.60893855, 0.66292135, 0.68539326, 0.68539326, 0.7247191 ],\n",
       "        [0.60893855, 0.66292135, 0.68539326, 0.69101124, 0.74719101],\n",
       "        [0.60893855, 0.66292135, 0.68539326, 0.70224719, 0.75842697],\n",
       "        [0.60893855, 0.66853933, 0.68539326, 0.70224719, 0.73595506],\n",
       "        [0.60893855, 0.6741573 , 0.68539326, 0.70224719, 0.73595506],\n",
       "        [0.60893855, 0.6741573 , 0.68539326, 0.70224719, 0.73595506],\n",
       "        [0.61452514, 0.66853933, 0.6741573 , 0.70224719, 0.73595506],\n",
       "        [0.61452514, 0.6741573 , 0.67977528, 0.70224719, 0.73595506],\n",
       "        [0.61452514, 0.6741573 , 0.67977528, 0.70224719, 0.73595506],\n",
       "        [0.61452514, 0.6741573 , 0.67977528, 0.70224719, 0.75842697],\n",
       "        [0.60893855, 0.67977528, 0.6741573 , 0.70786517, 0.75280899],\n",
       "        [0.61452514, 0.67977528, 0.66853933, 0.70224719, 0.73595506],\n",
       "        [0.60335196, 0.67977528, 0.66853933, 0.70224719, 0.73595506],\n",
       "        [0.60893855, 0.68539326, 0.66853933, 0.70224719, 0.73595506],\n",
       "        [0.60893855, 0.68539326, 0.66853933, 0.70224719, 0.74157303],\n",
       "        [0.60893855, 0.68539326, 0.66853933, 0.70786517, 0.74157303],\n",
       "        [0.60335196, 0.68539326, 0.66853933, 0.70786517, 0.74719101],\n",
       "        [0.60335196, 0.68539326, 0.66853933, 0.70786517, 0.74157303],\n",
       "        [0.61452514, 0.68539326, 0.66853933, 0.70224719, 0.73595506],\n",
       "        [0.60893855, 0.68539326, 0.66853933, 0.70786517, 0.73595506],\n",
       "        [0.61452514, 0.68539326, 0.66853933, 0.70786517, 0.73595506],\n",
       "        [0.60893855, 0.68539326, 0.66853933, 0.70786517, 0.73595506],\n",
       "        [0.60893855, 0.68539326, 0.6741573 , 0.70224719, 0.73595506],\n",
       "        [0.60893855, 0.68539326, 0.6741573 , 0.70224719, 0.73595506],\n",
       "        [0.61452514, 0.68539326, 0.6741573 , 0.70224719, 0.73595506],\n",
       "        [0.60893855, 0.68539326, 0.6741573 , 0.70224719, 0.73595506],\n",
       "        [0.60893855, 0.68539326, 0.6741573 , 0.70224719, 0.73595506],\n",
       "        [0.61452514, 0.68539326, 0.6741573 , 0.70224719, 0.73595506],\n",
       "        [0.61452514, 0.68539326, 0.6741573 , 0.70224719, 0.73595506],\n",
       "        [0.60893855, 0.68539326, 0.6741573 , 0.70224719, 0.73595506],\n",
       "        [0.61452514, 0.68539326, 0.6741573 , 0.70224719, 0.74157303],\n",
       "        [0.61452514, 0.68539326, 0.67977528, 0.70786517, 0.74157303],\n",
       "        [0.61452514, 0.68539326, 0.67977528, 0.70786517, 0.74157303],\n",
       "        [0.61452514, 0.68539326, 0.6741573 , 0.70224719, 0.74157303]]))"
      ]
     },
     "execution_count": 32,
     "metadata": {},
     "output_type": "execute_result"
    },
    {
     "data": {
      "image/png": "[encoded data removed]",
      "text/plain": [
       "<Figure size 720x360 with 1 Axes>"
      ]
     },
     "metadata": {
      "needs_background": "light"
     },
     "output_type": "display_data"
    }
   ],
   "source": [
    "from sklearn.model_selection import learning_curve\n",
    "\n",
    "train_sizes = [*range(1, int(0.5*df.shape[0]), 50)]\n",
    "\n",
    "lc = learning_curve(X=X, y=y, estimator=log_model, train_sizes=np.linspace(0.001, 1.0, 80), cv=5)\n",
    "\n",
    "lc_train = lc[1].mean(axis=1)\n",
    "lc_test = lc[2].mean(axis=1)\n",
    "lc_sizes = lc[0]\n",
    "\n",
    "fig = plt.figure(figsize=(10, 5))\n",
    "\n",
    "ax = fig.gca()\n",
    "\n",
    "sns.lineplot(x=lc_sizes, y=lc_test, ax=ax, label=\"test\")\n",
    "sns.lineplot(x=lc_sizes, y=lc_train, ax=ax, label=\"train\")\n",
    "lc"
   ]
  },
  {
   "cell_type": "markdown",
   "metadata": {},
   "source": [
    "\n",
    "<details>\n",
    "<summary> ℹ️ Once you have completed your diagnosis, unfold this cell </summary>   \n",
    "    \n",
    "<br/>\n",
    "You should have plotted the learning curves.\n",
    "\n",
    "👉 The curves should have converged:\n",
    "- The model is not overfitting (no variance): it generalizes well.\n",
    "\n",
    "👉 The test score stops increasing around 500 training observations:\n",
    "- The model does not need more than 500 training observations to perform optimally on the given features.\n",
    "    \n",
    "</details>\n"
   ]
  },
  {
   "cell_type": "markdown",
   "metadata": {},
   "source": [
    "# 3. Reduced training size"
   ]
  },
  {
   "cell_type": "markdown",
   "metadata": {},
   "source": [
    "👇 Evaluate a model on the training size suggested by the curves. Are you able to maintain a similar accuracy? Save the new accuracy under variable name `reduced_training_accuracy`"
   ]
  },
  {
   "cell_type": "code",
   "execution_count": 37,
   "metadata": {
    "tags": [
     "challengify"
    ]
   },
   "outputs": [
    {
     "data": {
      "text/plain": [
       "0.65"
      ]
     },
     "execution_count": 37,
     "metadata": {},
     "output_type": "execute_result"
    }
   ],
   "source": [
    "X = df.head(500)[[\"Pclass\", \"SibSp\", \"Parch\", \"Fare\"]]\n",
    "y = df.head(500)[\"Survived\"]\n",
    "\n",
    "log_model = LogisticRegression()\n",
    "cv = cross_validate(X=X, y=y, estimator=log_model, cv=5, scoring=[\"accuracy\"])\n",
    "reduced_training_accuracy = cv[\"test_accuracy\"].mean()\n",
    "reduced_training_accuracy"
   ]
  },
  {
   "cell_type": "markdown",
   "metadata": {},
   "source": [
    "ℹ️ The accuracy should be the nearly the same, with a reduced computational expense."
   ]
  },
  {
   "cell_type": "markdown",
   "metadata": {},
   "source": [
    "### ☑️ Check your code"
   ]
  },
  {
   "cell_type": "code",
   "execution_count": 38,
   "metadata": {},
   "outputs": [
    {
     "name": "stdout",
     "output_type": "stream",
     "text": [
      "\u001b[1m============================= test session starts ==============================\u001b[0m\n",
      "platform darwin -- Python 3.8.12, pytest-6.2.5, py-1.10.0, pluggy-1.0.0 -- /Users/Moe/.pyenv/versions/lewagon/bin/python3\n",
      "cachedir: .pytest_cache\n",
      "rootdir: /Users/Moe/code/moe221/data-challenges-moe/05-ML/01-Fundamentals-of-Machine-Learning/04-Logistic-Regression\n",
      "plugins: dash-2.0.0, anyio-3.3.2, cov-3.0.0\n",
      "\u001b[1mcollecting ... \u001b[0mcollected 1 item\n",
      "\n",
      "tests/test_reduced_accuracy.py::TestReduced_accuracy::test_accuracy \u001b[32mPASSED\u001b[0m\u001b[32m [100%]\u001b[0m\n",
      "\n",
      "\u001b[32m============================== \u001b[32m\u001b[1m1 passed\u001b[0m\u001b[32m in 0.14s\u001b[0m\u001b[32m ===============================\u001b[0m\n",
      "\n",
      "\n",
      "💯 You can commit your code:\n",
      "\n",
      "\u001b[1;32mgit\u001b[39m add tests/reduced_accuracy.pickle\n",
      "\n",
      "\u001b[32mgit\u001b[39m commit -m \u001b[33m'Completed reduced_accuracy step'\u001b[39m\n",
      "\n",
      "\u001b[32mgit\u001b[39m push origin master\n"
     ]
    }
   ],
   "source": [
    "from nbresult import ChallengeResult\n",
    "\n",
    "result = ChallengeResult('reduced_accuracy',\n",
    "                         accuracy = reduced_training_accuracy\n",
    ")\n",
    "result.write()\n",
    "print(result.check())"
   ]
  },
  {
   "cell_type": "markdown",
   "metadata": {},
   "source": [
    "# 4. Predictions"
   ]
  },
  {
   "cell_type": "markdown",
   "metadata": {},
   "source": [
    "❓ Did the following person survive the Titanic disaster?\n",
    "\n",
    "- Travelled in class 1 (`Pclass`)\n",
    "- Had no spouse or sibblings on board(`SibSp`)\n",
    "- Had no parents or children on board (`Parch`)\n",
    "- Paid 15 for his ticket (`Fare`)\n",
    "\n",
    "⚠️ Make sure the model you use for predicting has the **least computational expense possible**. Save the prediction under variable name `prediction`."
   ]
  },
  {
   "cell_type": "code",
   "execution_count": 41,
   "metadata": {
    "tags": [
     "challengify"
    ]
   },
   "outputs": [
    {
     "data": {
      "text/plain": [
       "array([1])"
      ]
     },
     "execution_count": 41,
     "metadata": {},
     "output_type": "execute_result"
    }
   ],
   "source": [
    "log_model = LogisticRegression()\n",
    "log_model.fit(X.values, y)\n",
    "prediction = log_model.predict([[1, 0, 0, 15]])\n",
    "prediction"
   ]
  },
  {
   "cell_type": "markdown",
   "metadata": {},
   "source": [
    "❓ What is the probability that the person survived? Compute your answer and save it under variable name `probability`."
   ]
  },
  {
   "cell_type": "code",
   "execution_count": 45,
   "metadata": {
    "tags": [
     "challengify"
    ]
   },
   "outputs": [
    {
     "data": {
      "text/plain": [
       "0.5133385200560083"
      ]
     },
     "execution_count": 45,
     "metadata": {},
     "output_type": "execute_result"
    }
   ],
   "source": [
    "probability = log_model.predict_proba([[1, 0, 0, 15]])[0][1]\n",
    "probability"
   ]
  },
  {
   "cell_type": "markdown",
   "metadata": {},
   "source": [
    "### ☑️ Check your code"
   ]
  },
  {
   "cell_type": "code",
   "execution_count": 46,
   "metadata": {},
   "outputs": [
    {
     "name": "stdout",
     "output_type": "stream",
     "text": [
      "\u001b[1m============================= test session starts ==============================\u001b[0m\n",
      "platform darwin -- Python 3.8.12, pytest-6.2.5, py-1.10.0, pluggy-1.0.0 -- /Users/Moe/.pyenv/versions/lewagon/bin/python3\n",
      "cachedir: .pytest_cache\n",
      "rootdir: /Users/Moe/code/moe221/data-challenges-moe/05-ML/01-Fundamentals-of-Machine-Learning/04-Logistic-Regression\n",
      "plugins: dash-2.0.0, anyio-3.3.2, cov-3.0.0\n",
      "\u001b[1mcollecting ... \u001b[0mcollected 3 items\n",
      "\n",
      "tests/test_predictions.py::TestPredictions::test_prediction_is_1 \u001b[32mPASSED\u001b[0m\u001b[32m  [ 33%]\u001b[0m\n",
      "tests/test_predictions.py::TestPredictions::test_probability \u001b[32mPASSED\u001b[0m\u001b[32m      [ 66%]\u001b[0m\n",
      "tests/test_predictions.py::TestPredictions::test_probability_type \u001b[32mPASSED\u001b[0m\u001b[32m [100%]\u001b[0m\n",
      "\n",
      "\u001b[32m============================== \u001b[32m\u001b[1m3 passed\u001b[0m\u001b[32m in 0.13s\u001b[0m\u001b[32m ===============================\u001b[0m\n",
      "\n",
      "\n",
      "💯 You can commit your code:\n",
      "\n",
      "\u001b[1;32mgit\u001b[39m add tests/predictions.pickle\n",
      "\n",
      "\u001b[32mgit\u001b[39m commit -m \u001b[33m'Completed predictions step'\u001b[39m\n",
      "\n",
      "\u001b[32mgit\u001b[39m push origin master\n"
     ]
    }
   ],
   "source": [
    "from nbresult import ChallengeResult\n",
    "\n",
    "result = ChallengeResult('predictions',\n",
    "                         prediction = prediction,\n",
    "                         probability = probability\n",
    ")\n",
    "\n",
    "result.write()\n",
    "print(result.check())"
   ]
  },
  {
   "cell_type": "markdown",
   "metadata": {},
   "source": [
    "# 🏁"
   ]
  }
 ],
 "metadata": {
  "kernelspec": {
   "display_name": "Python 3 (ipykernel)",
   "language": "python",
   "name": "python3"
  },
  "language_info": {
   "codemirror_mode": {
    "name": "ipython",
    "version": 3
   },
   "file_extension": ".py",
   "mimetype": "text/x-python",
   "name": "python",
   "nbconvert_exporter": "python",
   "pygments_lexer": "ipython3",
   "version": "3.8.12"
  },
  "toc": {
   "base_numbering": 1,
   "nav_menu": {},
   "number_sections": true,
   "sideBar": true,
   "skip_h1_title": false,
   "title_cell": "Table of Contents",
   "title_sidebar": "Contents",
   "toc_cell": true,
   "toc_position": {},
   "toc_section_display": true,
   "toc_window_display": true
  }
 },
 "nbformat": 4,
 "nbformat_minor": 4
}
